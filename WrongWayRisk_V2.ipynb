{
 "cells": [
  {
   "cell_type": "markdown",
   "metadata": {},
   "source": [
    "# --------------------------  CVA Avec intensité stochastique  ------------------------"
   ]
  },
  {
   "cell_type": "code",
   "execution_count": 13,
   "metadata": {},
   "outputs": [],
   "source": [
    "import random \n",
    "import numpy as np\n",
    "import matplotlib.pyplot as plt\n",
    "import time"
   ]
  },
  {
   "cell_type": "markdown",
   "metadata": {},
   "source": [
    "# B&S and Payoff Call with Monte Carlo"
   ]
  },
  {
   "cell_type": "code",
   "execution_count": 30,
   "metadata": {},
   "outputs": [
    {
     "data": {
      "text/plain": [
       "100.1280668893981"
      ]
     },
     "execution_count": 30,
     "metadata": {},
     "output_type": "execute_result"
    }
   ],
   "source": [
    "## Monte Carlo method for valuation of Financial product following B&S model\n",
    "S0=100.0\n",
    "k=100.0\n",
    "T=1.0\n",
    "r=0.05\n",
    "sigma=0.20\n",
    "\n",
    "def BSM(Option,t):\n",
    "    S0,K,T,r,sigma=Option[0],Option[1],Option[2],Option[3],Option[4]\n",
    "    N=int(1e4)\n",
    "    W=np.random.standard_normal(N)\n",
    "    St=S0*np.exp((r-0.5*sigma**2)*t+sigma*np.sqrt(t)*W)\n",
    "    MonteCarloprice=np.sum(St)*np.exp(-r*t)/N\n",
    "    return MonteCarloprice\n",
    "\n",
    "def BSM_payoff(Option,t):\n",
    "    S0,K,T,r,sigma=Option[0],Option[1],Option[2],Option[3],Option[4]\n",
    "    N=int(1e4)\n",
    "    W=np.random.standard_normal(N)\n",
    "    St=S0*np.exp((r-0.5*sigma**2)*t+sigma*np.sqrt(t)*W)\n",
    "    Mt=np.maximum(0,St-K)\n",
    "    MonteCarloprice=np.sum(Mt)*np.exp(-r*t)/N\n",
    "    return MonteCarloprice\n",
    "\n",
    "BSM([S0,k,T,r,sigma],1.0)"
   ]
  },
  {
   "cell_type": "markdown",
   "metadata": {},
   "source": [
    "# Espérance de l'instant de défaut"
   ]
  },
  {
   "cell_type": "code",
   "execution_count": 205,
   "metadata": {},
   "outputs": [],
   "source": [
    "def Int_Rem(X,Y):\n",
    "    x=0\n",
    "    for i in range(len(X)):\n",
    "        x+=X[i]*(Y[i+1]-Y[i])\n",
    "    return x\n",
    "\n",
    "def Instant_Defaut(Mod_int,T): # Mod_int est le modèle de B&S choisi pour l'intensité Lambda\n",
    "    Tho,x=0,0\n",
    "    m=100 # l'intervalle [0,T] est subdivisé en m instant\n",
    "    size=10000 # on génère size valeurs de l'uniforme\n",
    "    for j in range(m):\n",
    "        Repr_temps=[T*j*i/m for i in range(size)]\n",
    "        Intensite_j=[BSM(Mod_int,t) for t in  Repr_temps[1:]]# Génération d'intensités entre 0 et T*j/m\n",
    "        Int=Int_Rem(Intensite_j,Repr_temps) # intégrale de l'intensité\n",
    "        Uniforme=np.random.uniform(0,1,size)  # size valeurs de l'uniforme\n",
    "        for i in range(size):\n",
    "            if Uniforme[i]<=1-np.exp(-Int):\n",
    "                Tho+=T*j/m\n",
    "                x+=1\n",
    "    return Tho/x"
   ]
  },
  {
   "cell_type": "code",
   "execution_count": 206,
   "metadata": {},
   "outputs": [
    {
     "data": {
      "text/plain": [
       "0.4999999999994952"
      ]
     },
     "execution_count": 206,
     "metadata": {},
     "output_type": "execute_result"
    }
   ],
   "source": [
    "S0,K,T,r,sigma=100.0,105.0,1.0,0.05,0.2\n",
    "Mod_int=[0.1,K,T,r,sigma]\n",
    "Instant_Defaut(Mod_int,T)"
   ]
  },
  {
   "cell_type": "markdown",
   "metadata": {},
   "source": [
    "# Calcul de la CVA avec corrélation "
   ]
  },
  {
   "cell_type": "code",
   "execution_count": 228,
   "metadata": {},
   "outputs": [],
   "source": [
    "def CVA_corr(cor):\n",
    "    T,sigmaS,sigmaL,K,r=1.0,0.2,0.2,100,0.05\n",
    "    S0,Lamda0=100,1\n",
    "    N=10000  # Tragectoire de MC\n",
    "    M= 500  # Subdivision de l'intervalle de temps\n",
    "    \n",
    "    CVA=0\n",
    "    Uniforme=np.random.uniform(0,1,N)\n",
    "    for i in range(N):\n",
    "        t,Int=0,0\n",
    "        # Détermination de l'instant de défaut \n",
    "        while t<=T:\n",
    "            t+=T/M\n",
    "            #Calcul de St et Lambdat qui sont corrélés \n",
    "            V,W=np.random.multivariate_normal([0,0],[[1,cor],[cor,1]],1).T # 2 normales corrélées\n",
    "            St=S0*np.exp((-0.5*sigmaS**2)*t+sigmaS*np.sqrt(t)*W)\n",
    "            Lamdat=Lamda0*np.exp((-0.5*sigmaL**2)*t+sigmaL*np.sqrt(t)*V)\n",
    "            Int+=Lamdat*T/M  #Intégrale de l'intensité\n",
    "            # Détermination de l'instant de défaut\n",
    "            if Uniforme[i]<=1-np.exp(-Int):\n",
    "                Tho=t\n",
    "                Xt=np.exp(-r*t)*np.maximum(0,St-K)\n",
    "                break\n",
    "        if t>T: # Le cas où il n'y a pas défaut\n",
    "            Xt=0\n",
    "        CVA+=Xt/N # CVA est un espérance du payoff à l'instant de défaut\n",
    "    return CVA"
   ]
  },
  {
   "cell_type": "markdown",
   "metadata": {},
   "source": [
    "Calcul de la CVA avec corrélation entre l'instant de défaut et le sous-jacent (On considère la corrélation nulle pour vérifier si nous obtenons la même valeur que la CVA_ind) :"
   ]
  },
  {
   "cell_type": "code",
   "execution_count": 229,
   "metadata": {},
   "outputs": [
    {
     "name": "stdout",
     "output_type": "stream",
     "text": [
      "826.2333376407623 [2.86240139]\n"
     ]
    }
   ],
   "source": [
    "start=time.time()\n",
    "x=CVA_corr(0)\n",
    "end=time.time()\n",
    "print(end-start,x)"
   ]
  },
  {
   "cell_type": "markdown",
   "metadata": {},
   "source": [
    "# Calcul de la CVA avec indépendance"
   ]
  },
  {
   "cell_type": "code",
   "execution_count": 230,
   "metadata": {},
   "outputs": [],
   "source": [
    "def CVA_ind():\n",
    "    T,sigmaS,sigmaL,K,r=1.0,0.2,0.2,100,0.05\n",
    "    S0,Lamda0=100,1\n",
    "    N=100000  # Tragectoire de MC\n",
    "    M= 1000  # Subdivision de l'intervalle de temps\n",
    "    \n",
    "    Lamda=[[]]*N\n",
    "    Int=[[]]*N  #Intégrale de l'intensité\n",
    "    \n",
    "    U=np.random.standard_normal(N)  # N trajectoire de MC\n",
    "    for i in range(N):\n",
    "        x=Lamda0*np.exp((-0.5*sigmaL**2)*T/M+sigmaL*np.sqrt(T/M)*U[i])\n",
    "        Lamda[i].append(x)\n",
    "        Int[i].append(x*T/M)\n",
    "        for j in range(1,M):\n",
    "            v=Lamda0*np.exp((-0.5*sigmaL**2)*(j+1)*T/M+sigmaL*np.sqrt((j+1)*T/M)*U[i])\n",
    "            Lamda[i].append(v)\n",
    "            Int[i].append(Int[i][j-1]+v*T/M)\n",
    "    CVA=0\n",
    "    for j in range(M):\n",
    "        #Fonction densité de l'instant de défaut à tj\n",
    "        densite=sum([Lamda[i][j]*np.exp(-Int[i][j]) for i in range(N)])/N\n",
    "        #CVA en Riemann\n",
    "        CVA+=BSM_payoff([S0,K,T,r,sigmaS],(j+1)*T/M)*densite*T/M\n",
    "    return CVA"
   ]
  },
  {
   "cell_type": "markdown",
   "metadata": {},
   "source": [
    "Calcul de la CVA avec indépendance entre l'instant de défaut et le sous-jacent:"
   ]
  },
  {
   "cell_type": "code",
   "execution_count": 231,
   "metadata": {},
   "outputs": [
    {
     "name": "stdout",
     "output_type": "stream",
     "text": [
      "1203.6130855083466 3.804431789549676\n"
     ]
    }
   ],
   "source": [
    "start=time.time()\n",
    "x=CVA_ind()\n",
    "end=time.time()\n",
    "print(end-start,x)\n"
   ]
  },
  {
   "cell_type": "code",
   "execution_count": 234,
   "metadata": {},
   "outputs": [
    {
     "name": "stdout",
     "output_type": "stream",
     "text": [
      "le rapport entre les deux valeurs 0.7523860456278065\n"
     ]
    }
   ],
   "source": [
    "print('le rapport entre les deux valeurs',2.86240139/3.804431789549676)"
   ]
  }
 ],
 "metadata": {
  "kernelspec": {
   "display_name": "Python 3",
   "language": "python",
   "name": "python3"
  },
  "language_info": {
   "codemirror_mode": {
    "name": "ipython",
    "version": 3
   },
   "file_extension": ".py",
   "mimetype": "text/x-python",
   "name": "python",
   "nbconvert_exporter": "python",
   "pygments_lexer": "ipython3",
   "version": "3.6.7"
  }
 },
 "nbformat": 4,
 "nbformat_minor": 2
}
