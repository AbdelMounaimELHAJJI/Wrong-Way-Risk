{
 "cells": [
  {
   "cell_type": "markdown",
   "metadata": {},
   "source": [
    "# --------------------------  CVA Avec Modèle de Jump  ------------------------"
   ]
  },
  {
   "cell_type": "markdown",
   "metadata": {},
   "source": [
    "# I- process du taux de change avec saut proportionnel et intensité stochastique"
   ]
  },
  {
   "cell_type": "code",
   "execution_count": 1,
   "metadata": {},
   "outputs": [],
   "source": [
    "import numpy as np\n",
    "import matplotlib.pyplot as plt"
   ]
  },
  {
   "cell_type": "code",
   "execution_count": 40,
   "metadata": {},
   "outputs": [],
   "source": [
    "# FX avec intensité constante\n",
    "def Processus_jump_multi(t,lamda,J):\n",
    "    sigmaX,r=0.2,0.05\n",
    "    X0=1.14\n",
    "    N=10000  # Tragectoire de MC\n",
    "    \n",
    "    Int=[0]*N  #Intégrale de l'intensité\n",
    "    U=np.random.standard_normal(N)  # N trajectoire de MC\n",
    "    Uniform=np.random.uniform(0,1,N) # N uniforme pour déterminer l'instant de défaut\n",
    "    Tho=0   # Instant de défaut\n",
    "    Xt=[]   # Valeur du process\n",
    "    \n",
    "    for i in range(N):\n",
    "        Xb=X0*np.exp((r-0.5*sigmaX**2)*t+sigmaX*np.sqrt(t)*U[i])\n",
    "        Tho=-np.log(1-Uniform[i])/lamda # car l'instant de défaut est un processus de poisson d'intensité constante lamda\n",
    "        if Tho>t:  # L'instant de défaut est supérieur à t\n",
    "            Xt.append(Xb*np.exp(-lamda*J*t))\n",
    "        else:\n",
    "            Xt.append(Xb*(1+J)*np.exp(-lamda*J*Tho))\n",
    "    MonteCarlo_value=sum(Xt)/N\n",
    "    \n",
    "    return MonteCarlo_value"
   ]
  },
  {
   "cell_type": "code",
   "execution_count": 41,
   "metadata": {},
   "outputs": [
    {
     "data": {
      "text/plain": [
       "1.1399999999999388"
      ]
     },
     "execution_count": 41,
     "metadata": {},
     "output_type": "execute_result"
    }
   ],
   "source": [
    "t=0\n",
    "lamda=0.1\n",
    "J=0.1\n",
    "Processus_jump_multi(t,lamda,J)"
   ]
  },
  {
   "cell_type": "code",
   "execution_count": 57,
   "metadata": {},
   "outputs": [],
   "source": [
    "# FX avec intensité constante\n",
    "def FX_Int_Const(cor,T,J):\n",
    "    sigmaX,sigmaL=0.2,0.2\n",
    "    X0,Lamda0=1.14,1\n",
    "    N=10000  # Tragectoire de MC\n",
    "    M= 100  # Subdivision de l'intervalle de temps\n",
    "    \n",
    "    Xt=0\n",
    "    Uniforme=np.random.uniform(0,1,N)\n",
    "    for i in range(N):\n",
    "        t,Int=0,0\n",
    "        # Détermination de l'instant de défaut \n",
    "        while t<=T:\n",
    "            t+=T/M\n",
    "            #Calcul de St et Lambdat qui sont corrélés \n",
    "            V,W=np.random.multivariate_normal([0,0],[[1,cor],[cor,1]],1).T # 2 normales corrélées\n",
    "            Xbt=X0*np.exp((-0.5*sigmaX**2)*t+sigmaX*np.sqrt(t)*W)\n",
    "            Lamdat=Lamda0*np.exp((-0.5*sigmaL**2)*t+sigmaL*np.sqrt(t)*V)\n",
    "            Int+=Lamdat*T/M  #Intégrale de l'intensité\n",
    "            # Détermination de l'instant de défaut\n",
    "            if Uniforme[i]<=1-np.exp(-Int):\n",
    "                Tho=t\n",
    "                X=Xbt*(1+J)*np.exp(-Int*J)\n",
    "                break\n",
    "        if t>T: # Le cas où il n'y a pas défaut\n",
    "            X=Xbt*np.exp(-Int*J)\n",
    "        Xt+=X/N # CVA est un espérance du payoff à l'instant de défaut\n",
    "    return Xt"
   ]
  },
  {
   "cell_type": "code",
   "execution_count": 58,
   "metadata": {},
   "outputs": [
    {
     "data": {
      "text/plain": [
       "array([1.1455738])"
      ]
     },
     "execution_count": 58,
     "metadata": {},
     "output_type": "execute_result"
    }
   ],
   "source": [
    "FX_Int_Const(0.5,1,0.1)"
   ]
  },
  {
   "cell_type": "code",
   "execution_count": 59,
   "metadata": {},
   "outputs": [],
   "source": [
    "# FX avec intensité stochastique conditionnel l'instant de défaut en t\n",
    "def InLambda(Lamda0,sigmaL,t): # Calcul d'intégrale entre 0 et t\n",
    "    N=10000 #Itération MC\n",
    "    M=500 # Subdivision pour intégrale entre 0 et t\n",
    "    LamdaRN=0\n",
    "    # Calcul de l'intégrale de l'intensité\n",
    "    for i in range(1,M):\n",
    "        Ti=i*t/M\n",
    "        W=np.random.standard_normal(N)\n",
    "        Lamda=0\n",
    "        for j in range(N):\n",
    "            Lamda+=np.exp(-Ti*sigmaL**2/2+sigmaL*np.sqrt(Ti)*W[j])\n",
    "        LamdaRN+=Lamda/N\n",
    "    LamdaRN*=Lamda0*t/N\n",
    "    \n",
    "    return LamdaRN\n",
    "    \n",
    "def FX(cor,t,J):\n",
    "    X0,Lamda0=1.14,1\n",
    "    sigmaX,sigmaL=0.17,0.2\n",
    "    N=10000 #Itération MC\n",
    "    LamdaRN=InLambda(Lamda0,sigmaL,t)\n",
    "    # Faire apparaître la corrélation entre les deux browniens\n",
    "    V,W=np.random.multivariate_normal([0,0],[[1,cor],[cor,1]],N).T\n",
    "    x=0\n",
    "    for i in range(N):\n",
    "        x+=(sigmaX*np.sqrt(t)*V[i]-J*Lamda0*np.exp(-t*sigmaL**2/2+sigmaL*np.sqrt(t)*W[i]))/N\n",
    "    x=-t*sigmaX**2/2+x-J*LamdaRN\n",
    "    #FX avec jump\n",
    "    Xt=(1+J)*X0*np.exp(x)\n",
    "    return Xt  \n",
    "        "
   ]
  },
  {
   "cell_type": "code",
   "execution_count": 60,
   "metadata": {},
   "outputs": [
    {
     "data": {
      "text/plain": [
       "1.1253610442372677"
      ]
     },
     "execution_count": 60,
     "metadata": {},
     "output_type": "execute_result"
    }
   ],
   "source": [
    "Tho=0.5 # Espérance de l'instant de défaut\n",
    "FX(0.5,0.5,0.1)"
   ]
  },
  {
   "cell_type": "markdown",
   "metadata": {},
   "source": [
    "# II- Implementation de la CVA avec MC"
   ]
  },
  {
   "cell_type": "code",
   "execution_count": 61,
   "metadata": {},
   "outputs": [],
   "source": [
    "def CVA_WWR(cor,T,J):\n",
    "    M=100\n",
    "    N=100\n",
    "    sigmaL,Lamda0=0.2,1\n",
    "    CVA=0\n",
    "    for i in range(1,M+1):\n",
    "        Ti=i*T/M\n",
    "        W=np.random.standard_normal(N)\n",
    "        Lamda=0\n",
    "        for j in range(N):\n",
    "            Lamda+=Lamda0*np.exp(-Ti*sigmaL**2/2+sigmaL*np.sqrt(Ti)*W[j])/N\n",
    "        CVA+= np.exp(-InLambda(Lamda0,sigmaL,Ti))*FX(cor,Ti,J)*Lamda\n",
    "    return CVA\n",
    "            "
   ]
  },
  {
   "cell_type": "code",
   "execution_count": null,
   "metadata": {},
   "outputs": [],
   "source": [
    "CVA_WWR(0.5,5,0.1)"
   ]
  },
  {
   "cell_type": "code",
   "execution_count": 101,
   "metadata": {},
   "outputs": [
    {
     "data": {
      "text/plain": [
       "1.0923322835387264"
      ]
     },
     "execution_count": 101,
     "metadata": {},
     "output_type": "execute_result"
    }
   ],
   "source": [
    "CVA_WWR(0.5,5,0.1)"
   ]
  },
  {
   "cell_type": "markdown",
   "metadata": {},
   "source": [
    "# III- Approximation du ration CVA (WWR/IND)"
   ]
  },
  {
   "cell_type": "code",
   "execution_count": 102,
   "metadata": {},
   "outputs": [],
   "source": [
    "def Ratio(cor,T,J):\n",
    "    Lamda0,sigmaL=0.01,0.2\n",
    "    sigmaX=0.17\n",
    "    r=(1-np.exp(-(1+J)*Lamda0*T))/(1-np.exp(-Lamda0*T))+0.5*(1+J)*Lamda0*cor*sigmaL*sigmaX*np.exp(-(1+J)*Lamda0*T)*T**2\n",
    "    return r"
   ]
  },
  {
   "cell_type": "code",
   "execution_count": 103,
   "metadata": {},
   "outputs": [
    {
     "data": {
      "text/plain": [
       "1.0981623998268923"
      ]
     },
     "execution_count": 103,
     "metadata": {},
     "output_type": "execute_result"
    }
   ],
   "source": [
    "Ratio(0.5,5,0.1)"
   ]
  },
  {
   "cell_type": "code",
   "execution_count": 104,
   "metadata": {},
   "outputs": [],
   "source": [
    "def Ratio_CVA(cor,T,J):\n",
    "    return CVA_WWR(cor,T,J)/CVA_WWR(0,T,J)"
   ]
  },
  {
   "cell_type": "code",
   "execution_count": 105,
   "metadata": {},
   "outputs": [
    {
     "data": {
      "text/plain": [
       "1.0035292242955032"
      ]
     },
     "execution_count": 105,
     "metadata": {},
     "output_type": "execute_result"
    }
   ],
   "source": [
    "Ratio(0.5,5,0.1)/Ratio_CVA(0.5,5,0.1)"
   ]
  },
  {
   "cell_type": "markdown",
   "metadata": {},
   "source": [
    "# IV- Tests"
   ]
  },
  {
   "cell_type": "markdown",
   "metadata": {},
   "source": [
    "# a- processus pur saut"
   ]
  },
  {
   "cell_type": "code",
   "execution_count": 109,
   "metadata": {},
   "outputs": [],
   "source": [
    "J=[i*0.2/100 for i in range(101)]\n",
    "sigmaL=[i*0.5/100 for i in range(101)]\n",
    "X=[Ratio_CVA(5,j,0.0) for j in J]\n",
    "Y=[Ratio_CVA(5,0.0,sig) for sig in sigmaL]"
   ]
  },
  {
   "cell_type": "code",
   "execution_count": 110,
   "metadata": {},
   "outputs": [
    {
     "data": {
      "image/png": "[encoded data removed]",
      "text/plain": [
       "<Figure size 432x288 with 1 Axes>"
      ]
     },
     "metadata": {
      "needs_background": "light"
     },
     "output_type": "display_data"
    }
   ],
   "source": [
    "plt.plot(J,X)\n",
    "plt.show()"
   ]
  },
  {
   "cell_type": "markdown",
   "metadata": {},
   "source": [
    "# b- Processus pur intensité stochastique"
   ]
  },
  {
   "cell_type": "code",
   "execution_count": 111,
   "metadata": {},
   "outputs": [
    {
     "data": {
      "image/png": "[encoded data removed]",
      "text/plain": [
       "<Figure size 432x288 with 1 Axes>"
      ]
     },
     "metadata": {
      "needs_background": "light"
     },
     "output_type": "display_data"
    }
   ],
   "source": [
    "plt.plot(sigmaL,Y)\n",
    "plt.show()"
   ]
  },
  {
   "cell_type": "markdown",
   "metadata": {},
   "source": [
    "# c- Approximation du ratio de la CVA"
   ]
  },
  {
   "cell_type": "code",
   "execution_count": 112,
   "metadata": {},
   "outputs": [],
   "source": [
    "W=[Ratio(5,j,0.0) for j in J]\n",
    "V=[Ratio(5,0.0,sig) for sig in sigmaL]"
   ]
  },
  {
   "cell_type": "code",
   "execution_count": 113,
   "metadata": {},
   "outputs": [
    {
     "data": {
      "image/png": "[encoded data removed]",
      "text/plain": [
       "<Figure size 432x288 with 1 Axes>"
      ]
     },
     "metadata": {
      "needs_background": "light"
     },
     "output_type": "display_data"
    }
   ],
   "source": [
    "plt.plot(J,W)\n",
    "plt.show()"
   ]
  },
  {
   "cell_type": "code",
   "execution_count": 115,
   "metadata": {},
   "outputs": [
    {
     "data": {
      "image/png": "[encoded data removed]",
      "text/plain": [
       "<Figure size 432x288 with 1 Axes>"
      ]
     },
     "metadata": {
      "needs_background": "light"
     },
     "output_type": "display_data"
    }
   ],
   "source": [
    "plt.plot(sigmaL,V)\n",
    "plt.show()"
   ]
  },
  {
   "cell_type": "markdown",
   "metadata": {},
   "source": [
    "# CVA avec intensité déterministe"
   ]
  },
  {
   "cell_type": "code",
   "execution_count": 118,
   "metadata": {},
   "outputs": [],
   "source": [
    "def FXD(t,J,Lamda):\n",
    "    X0=1.14\n",
    "    sigmaX=0.17\n",
    "    N=100 #Itération MC\n",
    "    Xt_B=0\n",
    "    # Faire apparaître la corrélation entre les deux browniens\n",
    "    W=np.random.standard_normal(N)\n",
    "    for j in range(N):\n",
    "        Xt_B+=np.exp(-t*sigmaX**2/2+sigmaX*np.sqrt(t)*W[j])/N\n",
    "    Xt=(1+J)*X0*Xt_B*np.exp(-Lamda*J*t)\n",
    "    return Xt  "
   ]
  },
  {
   "cell_type": "code",
   "execution_count": 119,
   "metadata": {},
   "outputs": [
    {
     "data": {
      "text/plain": [
       "1.2491372873708897"
      ]
     },
     "execution_count": 119,
     "metadata": {},
     "output_type": "execute_result"
    }
   ],
   "source": [
    "FXD(5,0.1,0.01)"
   ]
  },
  {
   "cell_type": "code",
   "execution_count": null,
   "metadata": {},
   "outputs": [],
   "source": [
    "def CVA_WWR_D(T,J,Lamda):\n",
    "    M=100\n",
    "    N=50\n",
    "    CVA=0\n",
    "    for i in range(1,M+1):\n",
    "        Ti=i*T/M\n",
    "        W=np.random.standard_normal(N)\n",
    "        Lamda=0\n",
    "        for j in range(N):\n",
    "            Lamda+=*np.exp(-Ti*sigmaL**2/2+sigmaL*np.sqrt(Ti)*W[j])/N\n",
    "        CVA+= np.exp(-InLambda(Lamda0,sigmaL,Ti))*FXD(Ti,J,Lamda)*Lamda\n",
    "    return CVA"
   ]
  },
  {
   "cell_type": "code",
   "execution_count": null,
   "metadata": {},
   "outputs": [],
   "source": [
    "def CVA_ind():\n",
    "    T,sigmaS,sigmaL,K,r=1.0,0.2,0.2,100,0.05\n",
    "    S0,Lamda0=100,1\n",
    "    N=1000  # Tragectoire de MC\n",
    "    M= 100  # Subdivision de l'intervalle de temps\n",
    "    \n",
    "    Lamda=[0]*N\n",
    "    Int=[0]*N  #Intégrale de l'intensité\n",
    "    U=np.random.standard_normal(N)  # N trajectoire de MC\n",
    "    for i in range(N):\n",
    "        x=Lamda0*np.exp((-0.5*sigmaL**2)*T/M+sigmaL*np.sqrt(T/M)*U[i])\n",
    "        Lamda[0]+=x/N\n",
    "        Int[0]+=x*T/M\n",
    "        for j in range(1,M):\n",
    "            x=Lamda0*np.exp((-0.5*sigmaL**2)*(j+1)*T/M+sigmaL*np.sqrt((j+1)*T/M)*U[i])\n",
    "            Lamda[j]+=x/N\n",
    "            Int[j]+=Int[j-1]+x*T/M\n",
    "    CVA=0\n",
    "    for j in range(M):\n",
    "        #Fonction densité de l'instant de défaut à tj\n",
    "        densite=Lamda[j]*np.exp(-Int[j])\n",
    "        #CVA en Riemann\n",
    "        CVA+=BSM_payoff([S0,K,T,r,sigmaS],(j+1)*T/M)*densite*T/M\n",
    "    return CVA"
   ]
  },
  {
   "cell_type": "code",
   "execution_count": null,
   "metadata": {},
   "outputs": [],
   "source": [
    "Int=Lamda0*np.exp((-0.5*sigmaL**2)*T/M+sigmaL*np.sqrt(T/M)*U[i])*T/M\n",
    "        j=2\n",
    "        while j<=M:\n",
    "            if Uniform[i]>=1-np.exp(-Int):\n",
    "                Tho=j*t/M\n",
    "            x=Lamda0*np.exp((-0.5*sigmaL**2)*j*t/M+sigmaL*np.sqrt(j*t/M)*U[i])\n",
    "            Int+=x*T/M\n",
    "            j+=1"
   ]
  }
 ],
 "metadata": {
  "kernelspec": {
   "display_name": "Python 3",
   "language": "python",
   "name": "python3"
  },
  "language_info": {
   "codemirror_mode": {
    "name": "ipython",
    "version": 3
   },
   "file_extension": ".py",
   "mimetype": "text/x-python",
   "name": "python",
   "nbconvert_exporter": "python",
   "pygments_lexer": "ipython3",
   "version": "3.6.7"
  }
 },
 "nbformat": 4,
 "nbformat_minor": 2
}
