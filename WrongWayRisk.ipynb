{
 "cells": [
  {
   "cell_type": "code",
   "execution_count": 132,
   "metadata": {},
   "outputs": [
    {
     "data": {
      "text/plain": [
       "0.7066517055496193"
      ]
     },
     "execution_count": 132,
     "metadata": {},
     "output_type": "execute_result"
    }
   ],
   "source": [
    "import random \n",
    "import numpy as np\n",
    "import matplotlib.pyplot as plt\n",
    "\n",
    "#loi uniforme\n",
    "def uniforme(a,b):\n",
    "    return a+ (b-a)*random.random()\n",
    "uniforme(0,1)"
   ]
  },
  {
   "cell_type": "code",
   "execution_count": 133,
   "metadata": {},
   "outputs": [
    {
     "data": {
      "text/plain": [
       "0.25"
      ]
     },
     "execution_count": 133,
     "metadata": {},
     "output_type": "execute_result"
    }
   ],
   "source": [
    "#Densité uniforme\n",
    "def densite_uniforme(t,a,b):\n",
    "    if t<=b and t>=a:\n",
    "        return 1/(b-a)\n",
    "    else:\n",
    "        return 0\n",
    "densite_uniforme(3,0,4)"
   ]
  },
  {
   "cell_type": "code",
   "execution_count": 134,
   "metadata": {},
   "outputs": [
    {
     "data": {
      "image/png": "[encoded data removed]",
      "text/plain": [
       "<Figure size 432x288 with 1 Axes>"
      ]
     },
     "metadata": {},
     "output_type": "display_data"
    }
   ],
   "source": [
    "#Plot de la densité de la loi normale\n",
    "def densite_plot(a,b):\n",
    "    x=np.linspace(a-10,b+10,10000)\n",
    "    Y=[densite_uniforme(t,a,b) for t in x]\n",
    "    plt.plot(x,Y)\n",
    "densite_plot(0,5)    "
   ]
  },
  {
   "cell_type": "code",
   "execution_count": 135,
   "metadata": {},
   "outputs": [],
   "source": [
    "#Processus de poisson\n",
    "import scipy.integrate as integ\n",
    "\n",
    "def frepar_poisson(lamda,t): # Fonction de répartition \n",
    "    return 1-np.exp(-integ.quad(lamda,0,t)[0])\n",
    "# la fonction Lambda s\n",
    "def f(s):\n",
    "    return 0.4*s"
   ]
  },
  {
   "cell_type": "code",
   "execution_count": 136,
   "metadata": {},
   "outputs": [
    {
     "data": {
      "text/plain": [
       "0.20000000000000004"
      ]
     },
     "execution_count": 136,
     "metadata": {},
     "output_type": "execute_result"
    }
   ],
   "source": [
    "integ.quad(f,0,1)[0]"
   ]
  },
  {
   "cell_type": "code",
   "execution_count": 137,
   "metadata": {},
   "outputs": [],
   "source": [
    "#les t tels que la loi uniforme entre 0 et 1 est inf à la Fr du processus de poisson\n",
    "def test_uniforme(lamda,t):\n",
    "    x=frepar_poisson(lamda,t)\n",
    "    u=uniforme(0,1)\n",
    "    if u<=x:\n",
    "        return 1 # L'instant de défaut est t\n",
    "    else:\n",
    "        return 0 # l'instant de défaut est supérieur à t, il faut aller vers un t supérieur\n",
    "    \n",
    "def temps_defaut(l,step):\n",
    "    x=0\n",
    "    while x<len(l):\n",
    "        if l[x:]==[1 for i in range(len(l[x:]))]:\n",
    "            break\n",
    "        else:\n",
    "            x+=1\n",
    "    return x*step"
   ]
  },
  {
   "cell_type": "code",
   "execution_count": 138,
   "metadata": {},
   "outputs": [
    {
     "name": "stdout",
     "output_type": "stream",
     "text": [
      "Temps que la contrepartie fait défaut est:  2.7\n"
     ]
    },
    {
     "data": {
      "image/png": "[encoded data removed]",
      "text/plain": [
       "<Figure size 432x288 with 1 Axes>"
      ]
     },
     "metadata": {},
     "output_type": "display_data"
    }
   ],
   "source": [
    "# Les temps d'arrêt pour lamda=0.4*s\n",
    "step=0.1\n",
    "T=np.arange(0,100,step)\n",
    "l=[test_uniforme(f,t) for t in T]\n",
    "t1=temps_defaut(l,step)\n",
    "plt.plot(T,l)\n",
    "print(\"Temps que la contrepartie fait défaut est: \",t1)"
   ]
  },
  {
   "cell_type": "code",
   "execution_count": 139,
   "metadata": {},
   "outputs": [
    {
     "name": "stderr",
     "output_type": "stream",
     "text": [
      "C:\\ProgramData\\Anaconda3\\lib\\site-packages\\ipykernel_launcher.py:3: RuntimeWarning: divide by zero encountered in log\n",
      "  This is separate from the ipykernel package so we can avoid doing imports until\n",
      "C:\\ProgramData\\Anaconda3\\lib\\site-packages\\scipy\\integrate\\quadpack.py:385: IntegrationWarning: Extremely bad integrand behavior occurs at some points of the\n",
      "  integration interval.\n",
      "  warnings.warn(msg, IntegrationWarning)\n"
     ]
    },
    {
     "name": "stdout",
     "output_type": "stream",
     "text": [
      "Temps que la contrepartie fait défaut est:  6.800000000000001\n"
     ]
    },
    {
     "data": {
      "image/png": "[encoded data removed]",
      "text/plain": [
       "<Figure size 432x288 with 1 Axes>"
      ]
     },
     "metadata": {},
     "output_type": "display_data"
    }
   ],
   "source": [
    "# la fonction Lambda s\n",
    "def g(s):\n",
    "    return 0.4*np.log(s)\n",
    "\n",
    "# Les temps d'arrêt pour lamda=0.4*np.log(s)\n",
    "step=0.1\n",
    "T=np.arange(0,100,step)\n",
    "l=[test_uniforme(g,t) for t in T]\n",
    "t2=temps_defaut(l,step)\n",
    "plt.plot(T,l)\n",
    "print(\"Temps que la contrepartie fait défaut est: \",t2)"
   ]
  },
  {
   "cell_type": "code",
   "execution_count": 140,
   "metadata": {},
   "outputs": [
    {
     "name": "stdout",
     "output_type": "stream",
     "text": [
      "Temps que la contrepartie fait défaut est:  6.7\n"
     ]
    },
    {
     "data": {
      "image/png": "[encoded data removed]",
      "text/plain": [
       "<Figure size 432x288 with 1 Axes>"
      ]
     },
     "metadata": {},
     "output_type": "display_data"
    }
   ],
   "source": [
    "# la fonction Lambda s\n",
    "def d(s):\n",
    "    return 0.4\n",
    "\n",
    "# Les temps d'arrêt pour lamda=0.4*np.log(s)\n",
    "step=0.1\n",
    "T=np.arange(0,100,step)\n",
    "l=[test_uniforme(d,t) for t in T]\n",
    "t3=temps_defaut(l,step)\n",
    "plt.plot(T,l)\n",
    "print(\"Temps que la contrepartie fait défaut est: \",t3)"
   ]
  }
 ],
 "metadata": {
  "kernelspec": {
   "display_name": "Python 3",
   "language": "python",
   "name": "python3"
  },
  "language_info": {
   "codemirror_mode": {
    "name": "ipython",
    "version": 3
   },
   "file_extension": ".py",
   "mimetype": "text/x-python",
   "name": "python",
   "nbconvert_exporter": "python",
   "pygments_lexer": "ipython3",
   "version": "3.6.5"
  }
 },
 "nbformat": 4,
 "nbformat_minor": 2
}
